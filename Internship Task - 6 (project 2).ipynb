{
  "nbformat": 4,
  "nbformat_minor": 0,
  "metadata": {
    "colab": {
      "provenance": []
    },
    "kernelspec": {
      "name": "python3",
      "display_name": "Python 3"
    },
    "language_info": {
      "name": "python"
    }
  },
  "cells": [
    {
      "source": [
        "import pandas as pd\n",
        "from sklearn.model_selection import train_test_split\n",
        "from sklearn.preprocessing import StandardScaler\n",
        "from sklearn.linear_model import LogisticRegression\n",
        "from sklearn.metrics import confusion_matrix, classification_report\n",
        "\n",
        "\n",
        "# Sample data\n",
        "data = {\n",
        "    'Age': [63, 37, 41, 56, 57, 57, 63, 44, 52, 57],\n",
        "    'Gender': ['Male', 'Male', 'Female', 'Male', 'Female', 'Male', 'Female', 'Male', 'Male', 'Male'],\n",
        "    'Cholesterol': [233, 250, 204, 236, 192, 294, 256, 263, 209, 354],\n",
        "    'Blood Pressure': ['145/90', '130/70', '130/80', '175/105', '150/90', '140/90', '140/80', '120/80', '140/85', '160/95'],\n",
        "    'Heart Disease': ['Yes', 'No', 'No', 'Yes', 'No', 'Yes', 'No', 'No', 'No', 'Yes']\n",
        "}\n",
        "\n",
        "# Create pandas DataFrame\n",
        "df = pd.DataFrame(data)\n",
        "\n",
        "# Save to CSV\n",
        "df.to_csv('heart_disease.csv', index=False)\n",
        "\n",
        "print(\"Dataset 'heart_disease.csv' created successfully.\")\n",
        "\n",
        "df.dropna(inplace=True)  # Remove rows with missing values (replace with more sophisticated imputation if necessary)\n",
        "df.drop_duplicates(inplace=True)\n",
        "\n",
        "# ----> Split Blood Pressure into Systolic and Diastolic <----\n",
        "df[['Systolic', 'Diastolic']] = df['Blood Pressure'].str.split('/', expand=True).astype(float)\n",
        "df.drop('Blood Pressure', axis=1, inplace=True)\n",
        "\n",
        "# Feature Engineering (Normalize numerical features)\n",
        "# ----> Update numerical_features to include new columns <----\n",
        "numerical_features = ['Age', 'Cholesterol', 'Systolic', 'Diastolic']\n",
        "scaler = StandardScaler()\n",
        "df[numerical_features] = scaler.fit_transform(df[numerical_features])\n",
        "\n",
        "# Prepare data for modeling\n",
        "X = df.drop('Heart Disease', axis=1)  # Features\n",
        "y = df['Heart Disease']  # Target variable\n",
        "\n",
        "# One-hot encode categorical features (if any)\n",
        "X = pd.get_dummies(X, drop_first=True) # Example, adapt to your data\n",
        "\n",
        "# Split data into training and testing sets\n",
        "X_train, X_test, y_train, y_test = train_test_split(X, y, test_size=0.2, random_state=42)\n",
        "\n",
        "# Model Training\n",
        "model = LogisticRegression()\n",
        "model.fit(X_train, y_train)\n",
        "\n",
        "# Model Evaluation\n",
        "y_pred = model.predict(X_test)\n",
        "conf_matrix = confusion_matrix(y_test, y_pred)\n",
        "class_report = classification_report(y_test, y_pred)\n",
        "\n",
        "print(\"Confusion Matrix:\\n\", conf_matrix)\n",
        "print(\"\\nClassification Report:\\n\", class_report)"
      ],
      "cell_type": "code",
      "metadata": {
        "colab": {
          "base_uri": "https://localhost:8080/"
        },
        "id": "0oF64PPbldZm",
        "outputId": "67f575e6-5429-4bda-df47-0beb3c3191af"
      },
      "execution_count": 2,
      "outputs": [
        {
          "output_type": "stream",
          "name": "stdout",
          "text": [
            "Dataset 'heart_disease.csv' created successfully.\n",
            "Confusion Matrix:\n",
            " [[2]]\n",
            "\n",
            "Classification Report:\n",
            "               precision    recall  f1-score   support\n",
            "\n",
            "          No       1.00      1.00      1.00         2\n",
            "\n",
            "    accuracy                           1.00         2\n",
            "   macro avg       1.00      1.00      1.00         2\n",
            "weighted avg       1.00      1.00      1.00         2\n",
            "\n"
          ]
        },
        {
          "output_type": "stream",
          "name": "stderr",
          "text": [
            "/usr/local/lib/python3.11/dist-packages/sklearn/metrics/_classification.py:407: UserWarning: A single label was found in 'y_true' and 'y_pred'. For the confusion matrix to have the correct shape, use the 'labels' parameter to pass all known labels.\n",
            "  warnings.warn(\n"
          ]
        }
      ]
    }
  ]
}